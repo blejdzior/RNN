{
 "cells": [
  {
   "cell_type": "markdown",
   "id": "93afd9f6",
   "metadata": {},
   "source": [
    "### Structures\n",
    "Definition of basic structures for computational graph"
   ]
  },
  {
   "cell_type": "code",
   "execution_count": 2,
   "id": "9f929c35",
   "metadata": {},
   "outputs": [],
   "source": [
    "abstract type GraphNode end\n",
    "abstract type Operator <: GraphNode end\n",
    "\n",
    "struct Constant{T} <: GraphNode\n",
    "    output :: T\n",
    "end\n",
    "\n",
    "mutable struct Variable <: GraphNode\n",
    "    output :: Any\n",
    "    gradient :: Any\n",
    "    name :: String\n",
    "    Variable(output; name=\"?\") = new(output, nothing, name)\n",
    "end\n",
    "\n",
    "mutable struct ScalarOperator{F} <: Operator\n",
    "    inputs :: Any\n",
    "    output :: Any\n",
    "    gradient :: Any\n",
    "    name :: String\n",
    "    ScalarOperator(fun, inputs...; name=\"?\") = new{typeof(fun)}(inputs, nothing, nothing, name)\n",
    "end\n",
    "\n",
    "mutable struct BroadcastedOperator{F} <: Operator\n",
    "    inputs :: Any\n",
    "    output :: Any\n",
    "    gradient :: Any\n",
    "    name :: String\n",
    "    BroadcastedOperator(fun, inputs...; name=\"?\") = new{typeof(fun)}(inputs, nothing, nothing, name)\n",
    "end"
   ]
  },
  {
   "cell_type": "markdown",
   "id": "23325057",
   "metadata": {},
   "source": [
    "### Pretty-printing\n",
    "It helps tracking what happens"
   ]
  },
  {
   "cell_type": "code",
   "execution_count": 3,
   "id": "df5b6bef",
   "metadata": {},
   "outputs": [
    {
     "data": {
      "text/plain": [
       "show (generic function with 278 methods)"
      ]
     },
     "metadata": {},
     "output_type": "display_data"
    }
   ],
   "source": [
    "import Base: show, summary\n",
    "show(io::IO, x::ScalarOperator{F}) where {F} = print(io, \"op \", x.name, \"(\", F, \")\");\n",
    "show(io::IO, x::BroadcastedOperator{F}) where {F} = print(io, \"op.\", x.name, \"(\", F, \")\");\n",
    "show(io::IO, x::Constant) = print(io, \"const \", x.output)\n",
    "show(io::IO, x::Variable) = begin\n",
    "    print(io, \"var \", x.name);\n",
    "    print(io, \"\\n ┣━ ^ \"); summary(io, x.output)\n",
    "    print(io, \"\\n ┗━ ∇ \");  summary(io, x.gradient)\n",
    "end"
   ]
  },
  {
   "cell_type": "markdown",
   "id": "39c64026",
   "metadata": {},
   "source": [
    "### Graph building\n",
    "At first we have a set of loosely-coupled graph nodes. The following procedures build a proper graph!"
   ]
  },
  {
   "cell_type": "code",
   "execution_count": 4,
   "id": "7c75c244",
   "metadata": {},
   "outputs": [
    {
     "data": {
      "text/plain": [
       "topological_sort (generic function with 1 method)"
      ]
     },
     "metadata": {},
     "output_type": "display_data"
    }
   ],
   "source": [
    "function visit(node::GraphNode, visited, order)\n",
    "    if node ∈ visited\n",
    "    else\n",
    "        push!(visited, node)\n",
    "        push!(order, node)\n",
    "    end\n",
    "    return nothing\n",
    "end\n",
    "    \n",
    "function visit(node::Operator, visited, order)\n",
    "    if node ∈ visited\n",
    "    else\n",
    "        push!(visited, node)\n",
    "        for input in node.inputs\n",
    "            visit(input, visited, order)\n",
    "        end\n",
    "        push!(order, node)\n",
    "    end\n",
    "    return nothing\n",
    "end\n",
    "\n",
    "function topological_sort(head::GraphNode)\n",
    "    visited = Set()\n",
    "    order = Vector()\n",
    "    visit(head, visited, order)\n",
    "    return order\n",
    "end"
   ]
  },
  {
   "cell_type": "markdown",
   "id": "4b04aae1",
   "metadata": {},
   "source": [
    "### Forward pass"
   ]
  },
  {
   "cell_type": "code",
   "execution_count": 5,
   "id": "afa95b21",
   "metadata": {},
   "outputs": [
    {
     "data": {
      "text/plain": [
       "forward! (generic function with 1 method)"
      ]
     },
     "metadata": {},
     "output_type": "display_data"
    }
   ],
   "source": [
    "reset!(node::Constant) = nothing\n",
    "reset!(node::Variable) = node.gradient = nothing\n",
    "reset!(node::Operator) = node.gradient = nothing\n",
    "\n",
    "compute!(node::Constant) = nothing\n",
    "compute!(node::Variable) = nothing\n",
    "compute!(node::Operator) =\n",
    "    node.output = forward(node, [input.output for input in node.inputs]...)\n",
    "\n",
    "function forward!(order::Vector)\n",
    "    for node in order\n",
    "        compute!(node)\n",
    "        reset!(node)\n",
    "    end\n",
    "    return last(order).output\n",
    "end"
   ]
  },
  {
   "cell_type": "markdown",
   "id": "49f1ef9d",
   "metadata": {},
   "source": []
  },
  {
   "cell_type": "markdown",
   "id": "e3eed685",
   "metadata": {},
   "source": [
    "### Backward pass"
   ]
  },
  {
   "cell_type": "code",
   "execution_count": 6,
   "id": "89f2761f",
   "metadata": {},
   "outputs": [
    {
     "data": {
      "text/plain": [
       "backward! (generic function with 4 methods)"
      ]
     },
     "metadata": {},
     "output_type": "display_data"
    }
   ],
   "source": [
    "update!(node::Constant, gradient) = nothing\n",
    "update!(node::GraphNode, gradient) = if isnothing(node.gradient)\n",
    "    node.gradient = gradient else node.gradient .+= gradient\n",
    "end\n",
    "\n",
    "function backward!(order::Vector; seed=1.0)\n",
    "    result = last(order)\n",
    "    result.gradient = seed\n",
    "    for node in reverse(order)\n",
    "        backward!(node)\n",
    "    end\n",
    "    return nothing\n",
    "end\n",
    "\n",
    "function backward!(node::Constant) end\n",
    "function backward!(node::Variable) end\n",
    "function backward!(node::Operator)\n",
    "    inputs = node.inputs\n",
    "    gradients = backward(node, [input.output for input in inputs]..., node.gradient)\n",
    "    for (input, gradient) in zip(inputs, gradients)\n",
    "        update!(input, gradient)\n",
    "    end\n",
    "    return nothing\n",
    "end"
   ]
  },
  {
   "cell_type": "markdown",
   "id": "9f8a717d",
   "metadata": {},
   "source": [
    "### Implemented operations\n",
    "Below is the list of supported operations on graph nodes"
   ]
  },
  {
   "cell_type": "markdown",
   "id": "d8139570",
   "metadata": {},
   "source": [
    "#### Scalar operators"
   ]
  },
  {
   "cell_type": "code",
   "execution_count": 7,
   "id": "c7c90ca0",
   "metadata": {},
   "outputs": [
    {
     "data": {
      "text/plain": [
       "backward (generic function with 1 method)"
      ]
     },
     "metadata": {},
     "output_type": "display_data"
    }
   ],
   "source": [
    "import Base: ^\n",
    "^(x::GraphNode, n::GraphNode) = ScalarOperator(^, x, n)\n",
    "forward(::ScalarOperator{typeof(^)}, x, n) = return x^n\n",
    "backward(::ScalarOperator{typeof(^)}, x, n, g) = tuple(g * n * x ^ (n-1), g * log(abs(x)) * x ^ n)"
   ]
  },
  {
   "cell_type": "code",
   "execution_count": 8,
   "id": "be55a46d",
   "metadata": {},
   "outputs": [
    {
     "data": {
      "text/plain": [
       "backward (generic function with 2 methods)"
      ]
     },
     "metadata": {},
     "output_type": "display_data"
    }
   ],
   "source": [
    "import Base: sin\n",
    "sin(x::GraphNode) = ScalarOperator(sin, x)\n",
    "forward(::ScalarOperator{typeof(sin)}, x) = return sin(x)\n",
    "backward(::ScalarOperator{typeof(sin)}, x, g) = tuple(g * cos(x))"
   ]
  },
  {
   "cell_type": "markdown",
   "id": "642e3f44",
   "metadata": {},
   "source": [
    "#### Broadcasted operators\n",
    "The operations act on vectors of values so, the gradients are computed as vector-jacobian-products."
   ]
  },
  {
   "cell_type": "code",
   "execution_count": 9,
   "id": "cf574638",
   "metadata": {},
   "outputs": [
    {
     "data": {
      "text/plain": [
       "backward (generic function with 4 methods)"
      ]
     },
     "metadata": {},
     "output_type": "display_data"
    }
   ],
   "source": [
    "import Base: *\n",
    "import LinearAlgebra: mul!\n",
    "# x * y (aka matrix multiplication)\n",
    "*(A::GraphNode, x::GraphNode) = BroadcastedOperator(mul!, A, x)\n",
    "forward(::BroadcastedOperator{typeof(mul!)}, A, x) = return A * x\n",
    "backward(::BroadcastedOperator{typeof(mul!)}, A, x, g) = display(g), tuple(g * x', A' * g)\n",
    "\n",
    "# x .* y (element-wise multiplication)\n",
    "Base.Broadcast.broadcasted(*, x::GraphNode, y::GraphNode) = BroadcastedOperator(*, x, y)\n",
    "forward(::BroadcastedOperator{typeof(*)}, x, y) = return x .* y\n",
    "backward(node::BroadcastedOperator{typeof(*)}, x, y, g) = let\n",
    "    𝟏 = ones(length(node.output))\n",
    "    Jx = diagm(vec(y .* 1))\n",
    "    Jy = diagm(vec(x .* 1))\n",
    "    tuple(Jx' * g, Jy' * g)\n",
    "end"
   ]
  },
  {
   "cell_type": "code",
   "execution_count": 10,
   "id": "28c7549d",
   "metadata": {},
   "outputs": [
    {
     "data": {
      "text/plain": [
       "backward (generic function with 5 methods)"
      ]
     },
     "metadata": {},
     "output_type": "display_data"
    }
   ],
   "source": [
    "Base.Broadcast.broadcasted(-, x::GraphNode, y::GraphNode) = BroadcastedOperator(-, x, y)\n",
    "forward(::BroadcastedOperator{typeof(-)}, x, y) = return x .- y\n",
    "backward(::BroadcastedOperator{typeof(-)}, x, y, g) = tuple(g,-g)"
   ]
  },
  {
   "cell_type": "code",
   "execution_count": 11,
   "id": "47861201",
   "metadata": {},
   "outputs": [
    {
     "data": {
      "text/plain": [
       "backward (generic function with 6 methods)"
      ]
     },
     "metadata": {},
     "output_type": "display_data"
    }
   ],
   "source": [
    "Base.Broadcast.broadcasted(+, x::GraphNode, y::GraphNode) = BroadcastedOperator(+, x, y)\n",
    "forward(::BroadcastedOperator{typeof(+)}, x, y) = return x .+ y\n",
    "backward(::BroadcastedOperator{typeof(+)}, x, y, g) = tuple(g, g)"
   ]
  },
  {
   "cell_type": "code",
   "execution_count": 12,
   "id": "244cc7f1",
   "metadata": {},
   "outputs": [
    {
     "data": {
      "text/plain": [
       "backward (generic function with 7 methods)"
      ]
     },
     "metadata": {},
     "output_type": "display_data"
    }
   ],
   "source": [
    "import Base: sum\n",
    "sum(x::GraphNode) = BroadcastedOperator(sum, x)\n",
    "forward(::BroadcastedOperator{typeof(sum)}, x) = return sum(x)\n",
    "backward(::BroadcastedOperator{typeof(sum)}, x, g) = let\n",
    "    𝟏 = ones(length(x))\n",
    "    J = 𝟏'\n",
    "    tuple(J' * g)\n",
    "end"
   ]
  },
  {
   "cell_type": "code",
   "execution_count": 13,
   "id": "474f6b6b",
   "metadata": {},
   "outputs": [
    {
     "data": {
      "text/plain": [
       "backward (generic function with 8 methods)"
      ]
     },
     "metadata": {},
     "output_type": "display_data"
    }
   ],
   "source": [
    "Base.Broadcast.broadcasted(/, x::GraphNode, y::GraphNode) = BroadcastedOperator(/, x, y)\n",
    "forward(::BroadcastedOperator{typeof(/)}, x, y) = return x ./ y\n",
    "backward(node::BroadcastedOperator{typeof(/)}, x, y::Real, g) = let\n",
    "    𝟏 = ones(length(node.output))\n",
    "    Jx = diagm(𝟏 ./ y)\n",
    "    Jy = (-x ./ y .^2)\n",
    "    tuple(Jx' * g, Jy' * g)\n",
    "end"
   ]
  },
  {
   "cell_type": "code",
   "execution_count": 14,
   "id": "0c881d67",
   "metadata": {},
   "outputs": [
    {
     "data": {
      "text/plain": [
       "backward (generic function with 9 methods)"
      ]
     },
     "metadata": {},
     "output_type": "display_data"
    }
   ],
   "source": [
    "import Base: max\n",
    "Base.Broadcast.broadcasted(max, x::GraphNode, y::GraphNode) = BroadcastedOperator(max, x, y)\n",
    "forward(::BroadcastedOperator{typeof(max)}, x, y) = return max.(x, y)\n",
    "backward(::BroadcastedOperator{typeof(max)}, x, y, g) = let\n",
    "    Jx = diagm(isless.(y, x))\n",
    "    Jy = diagm(isless.(x, y))\n",
    "    tuple(Jx' * g, Jy' * g)\n",
    "end"
   ]
  },
  {
   "cell_type": "markdown",
   "id": "12169704",
   "metadata": {},
   "source": [
    "## Testing area!\n",
    "Below we will perform few tests."
   ]
  },
  {
   "cell_type": "code",
   "execution_count": 15,
   "id": "ad1dbc80",
   "metadata": {},
   "outputs": [
    {
     "data": {
      "text/plain": [
       "4-element Vector{Any}:\n",
       " var x\n",
       " ┣━ ^ Float64\n",
       " ┗━ ∇ Nothing\n",
       " const 2.0\n",
       " op ?(typeof(^))\n",
       " op ?(typeof(sin))"
      ]
     },
     "metadata": {},
     "output_type": "display_data"
    }
   ],
   "source": [
    "x = Variable(5.0, name=\"x\")\n",
    "two = Constant(2.0)\n",
    "squared = x^two\n",
    "sine = sin(squared)\n",
    "\n",
    "order = topological_sort(sine)"
   ]
  },
  {
   "cell_type": "code",
   "execution_count": 16,
   "id": "7b9be30d",
   "metadata": {},
   "outputs": [
    {
     "data": {
      "text/plain": [
       "-0.13235175009777303"
      ]
     },
     "metadata": {},
     "output_type": "display_data"
    }
   ],
   "source": [
    "y = forward!(order)"
   ]
  },
  {
   "cell_type": "code",
   "execution_count": 17,
   "id": "harmful-specialist",
   "metadata": {},
   "outputs": [],
   "source": [
    "backward!(order)"
   ]
  },
  {
   "cell_type": "code",
   "execution_count": 18,
   "id": "resident-gothic",
   "metadata": {},
   "outputs": [
    {
     "data": {
      "text/plain": [
       "9.912028118634735"
      ]
     },
     "metadata": {},
     "output_type": "display_data"
    }
   ],
   "source": [
    "x.gradient"
   ]
  },
  {
   "cell_type": "markdown",
   "id": "e7b0803d",
   "metadata": {},
   "source": [
    "### The simplest multilayer-perceptron"
   ]
  },
  {
   "cell_type": "code",
   "execution_count": 19,
   "id": "1c190c3b-1145-42ee-a3d3-ef226f4b44f6",
   "metadata": {},
   "outputs": [
    {
     "data": {
      "text/plain": [
       "backward (generic function with 10 methods)"
      ]
     },
     "metadata": {},
     "output_type": "display_data"
    }
   ],
   "source": [
    "Base.Broadcast.broadcasted(tanh, x::GraphNode) = BroadcastedOperator(tanh, x)\n",
    "forward(::BroadcastedOperator{typeof(tanh)}, x) = return tanh.(x)\n",
    "backward(node::BroadcastedOperator{typeof(tanh)}, x, g) = let \n",
    "    y = node.output\n",
    "    J = diagm(vec(1 .- y .^2)) \n",
    "    tuple(J' * g)\n",
    "    \n",
    "end"
   ]
  },
  {
   "cell_type": "code",
   "execution_count": 20,
   "id": "5b0d7acd",
   "metadata": {},
   "outputs": [
    {
     "data": {
      "text/plain": [
       "3-element Vector{Any}:\n",
       " var wh\n",
       " ┣━ ^ 10×2 Matrix{Float64}\n",
       " ┗━ ∇ Nothing\n",
       " var x\n",
       " ┣━ ^ 2-element Vector{Float64}\n",
       " ┗━ ∇ Nothing\n",
       " op.x̂(typeof(mul!))"
      ]
     },
     "metadata": {},
     "output_type": "display_data"
    }
   ],
   "source": [
    "using LinearAlgebra\n",
    "Wh  = Variable(randn(10,2), name=\"wh\")\n",
    "Wo  = Variable(randn(1,10), name=\"wo\")\n",
    "x = Variable([1.98, 4.434], name=\"x\")\n",
    "y = Variable([0.064], name=\"y\")\n",
    "losses = Float64[]\n",
    "\n",
    "function dense(w, b, x, activation) return activation.(w * x .+ b) end\n",
    "function dense(w, x, activation) return activation.(w * x) end\n",
    "function dense(w, x) return w * x end\n",
    "\n",
    "function mean_squared_loss(y, ŷ)\n",
    "    return Constant(0.5) .* (y .- ŷ) .^ Constant(2)\n",
    "end\n",
    "\n",
    "function net(x, wh, wo, y)\n",
    "    x̂ = dense(wh, x)\n",
    "    x̂.name = \"x̂\"\n",
    "    \n",
    "    return topological_sort(x̂)\n",
    "end\n",
    "graph = net(x, Wh, Wo, y)\n",
    "display(graph)"
   ]
  },
  {
   "cell_type": "code",
   "execution_count": 33,
   "id": "a5c2dc62",
   "metadata": {},
   "outputs": [
    {
     "data": {
      "text/plain": [
       "1-element Vector{Float64}:\n",
       " 1.0"
      ]
     },
     "metadata": {},
     "output_type": "display_data"
    },
    {
     "data": {
      "text/plain": [
       "(var x\n",
       " ┣━ ^ 1-element Vector{Float64}\n",
       " ┗━ ∇ Nothing, var x\n",
       " ┣━ ^ 1-element Vector{Float64}\n",
       " ┗━ ∇ Nothing)"
      ]
     },
     "metadata": {},
     "output_type": "display_data"
    },
    {
     "ename": "MethodError",
     "evalue": "MethodError: no method matching vec(::Float64)\n\nClosest candidates are:\n  vec(!Matched::Adjoint{<:Real, <:AbstractVector})\n   @ LinearAlgebra C:\\Users\\pozdro\\AppData\\Local\\Programs\\Julia-1.10.1\\share\\julia\\stdlib\\v1.10\\LinearAlgebra\\src\\adjtrans.jl:369\n  vec(!Matched::Transpose{<:Number, <:AbstractVector})\n   @ LinearAlgebra C:\\Users\\pozdro\\AppData\\Local\\Programs\\Julia-1.10.1\\share\\julia\\stdlib\\v1.10\\LinearAlgebra\\src\\adjtrans.jl:368\n  vec(!Matched::AbstractVector)\n   @ Base abstractarraymath.jl:42\n  ...\n",
     "output_type": "error",
     "traceback": [
      "MethodError: no method matching vec(::Float64)\n",
      "\n",
      "Closest candidates are:\n",
      "  vec(!Matched::Adjoint{<:Real, <:AbstractVector})\n",
      "   @ LinearAlgebra C:\\Users\\pozdro\\AppData\\Local\\Programs\\Julia-1.10.1\\share\\julia\\stdlib\\v1.10\\LinearAlgebra\\src\\adjtrans.jl:369\n",
      "  vec(!Matched::Transpose{<:Number, <:AbstractVector})\n",
      "   @ LinearAlgebra C:\\Users\\pozdro\\AppData\\Local\\Programs\\Julia-1.10.1\\share\\julia\\stdlib\\v1.10\\LinearAlgebra\\src\\adjtrans.jl:368\n",
      "  vec(!Matched::AbstractVector)\n",
      "   @ Base abstractarraymath.jl:42\n",
      "  ...\n",
      "\n",
      "\n",
      "Stacktrace:\n",
      " [1] backward(node::BroadcastedOperator{typeof(*)}, x::Float64, y::Vector{Float64}, g::Matrix{Float64})\n",
      "   @ Main g:\\PROGRAMOWANIE\\RNN\\W04 (1).ipynb:14\n",
      " [2] backward!(node::BroadcastedOperator{typeof(*)})\n",
      "   @ Main g:\\PROGRAMOWANIE\\RNN\\W04 (1).ipynb:19\n",
      " [3] backward!(order::Vector{Any}; seed::Float64)\n",
      "   @ Main g:\\PROGRAMOWANIE\\RNN\\W04 (1).ipynb:10\n",
      " [4] backward!(order::Vector{Any})\n",
      "   @ Main g:\\PROGRAMOWANIE\\RNN\\W04 (1).ipynb:6\n",
      " [5] top-level scope\n",
      "   @ g:\\PROGRAMOWANIE\\RNN\\W04 (1).ipynb:4"
     ]
    }
   ],
   "source": [
    "z = forward!(graph)\n",
    "display(graph[3].output)\n",
    "display(graph[3].inputs)\n",
    "backward!(graph)\n",
    "for (i,n) in enumerate(graph)\n",
    "    print(i, \". \"); println(n)\n",
    "end\n",
    "# display(graph[3].gradient)"
   ]
  },
  {
   "cell_type": "markdown",
   "id": "7c457220",
   "metadata": {},
   "source": [
    "### Manual derivatives for comparison"
   ]
  },
  {
   "cell_type": "code",
   "execution_count": 22,
   "id": "9e76b77e",
   "metadata": {},
   "outputs": [
    {
     "ename": "BoundsError",
     "evalue": "BoundsError: attempt to access 3-element Vector{Any} at index [8]",
     "output_type": "error",
     "traceback": [
      "BoundsError: attempt to access 3-element Vector{Any} at index [8]\n",
      "\n",
      "Stacktrace:\n",
      " [1] getindex(A::Vector{Any}, i1::Int64)\n",
      "   @ Base .\\essentials.jl:13\n",
      " [2] top-level scope\n",
      "   @ g:\\PROGRAMOWANIE\\RNN\\W04 (1).ipynb:2"
     ]
    }
   ],
   "source": [
    "eye(n) = diagm(ones(n))\n",
    "Eŷ  = graph[8].output - y.output #ŷ\n",
    "ŷȳ  = graph[8].output |> length |> eye #ŷ\n",
    "ȳWo = graph[7].output |> transpose #x̂\n",
    "x̄Wh = graph[5].output |> transpose #x\n",
    "ȳx̂  = graph[3].output |> transpose #Wo\n",
    "x̂x̄  = graph[7].output .* (1.0 .- graph[7].output) |> diagm #x̂\n",
    "Eȳ  = ŷȳ * Eŷ\n",
    "Ex̂  = ȳx̂ * Eȳ\n",
    "Ex̄  = x̂x̄ * Ex̂\n",
    "EWo = Eȳ * ȳWo\n",
    "EWh = Ex̄ * x̄Wh\n",
    "nothing"
   ]
  },
  {
   "cell_type": "code",
   "execution_count": 23,
   "id": "0e9f9460",
   "metadata": {},
   "outputs": [
    {
     "ename": "UndefVarError",
     "evalue": "UndefVarError: `EWh` not defined",
     "output_type": "error",
     "traceback": [
      "UndefVarError: `EWh` not defined\n"
     ]
    }
   ],
   "source": [
    "EWh"
   ]
  },
  {
   "cell_type": "code",
   "execution_count": 24,
   "id": "54e7cd83",
   "metadata": {},
   "outputs": [
    {
     "data": {
      "text/plain": [
       "1.0"
      ]
     },
     "metadata": {},
     "output_type": "display_data"
    },
    {
     "ename": "MethodError",
     "evalue": "MethodError: no method matching *(::Float64, ::Nothing)\n\nClosest candidates are:\n  *(::Any, ::Any, !Matched::Any, !Matched::Any...)\n   @ Base operators.jl:587\n  *(::Real, !Matched::Complex{Bool})\n   @ Base complex.jl:327\n  *(::Real, !Matched::Dates.Period)\n   @ Dates C:\\Users\\pozdro\\AppData\\Local\\Programs\\Julia-1.10.1\\share\\julia\\stdlib\\v1.10\\Dates\\src\\periods.jl:91\n  ...\n",
     "output_type": "error",
     "traceback": [
      "MethodError: no method matching *(::Float64, ::Nothing)\n",
      "\n",
      "Closest candidates are:\n",
      "  *(::Any, ::Any, !Matched::Any, !Matched::Any...)\n",
      "   @ Base operators.jl:587\n",
      "  *(::Real, !Matched::Complex{Bool})\n",
      "   @ Base complex.jl:327\n",
      "  *(::Real, !Matched::Dates.Period)\n",
      "   @ Dates C:\\Users\\pozdro\\AppData\\Local\\Programs\\Julia-1.10.1\\share\\julia\\stdlib\\v1.10\\Dates\\src\\periods.jl:91\n",
      "  ...\n",
      "\n",
      "\n",
      "Stacktrace:\n",
      " [1] top-level scope\n",
      "   @ g:\\PROGRAMOWANIE\\RNN\\W04 (1).ipynb:3"
     ]
    }
   ],
   "source": [
    "currentloss = forward!(graph)\n",
    "backward!(graph)\n",
    "Wh.output -= 0.01Wh.gradient\n",
    "Wo.output -= 0.01Wo.gradient\n",
    "println(\"Current loss: \", currentloss)\n",
    "push!(losses, first(currentloss))\n"
   ]
  },
  {
   "cell_type": "code",
   "execution_count": 25,
   "id": "romance-gravity",
   "metadata": {},
   "outputs": [],
   "source": [
    "Wh.gradient"
   ]
  },
  {
   "cell_type": "code",
   "execution_count": 26,
   "id": "fa7a9849",
   "metadata": {},
   "outputs": [
    {
     "ename": "ArgumentError",
     "evalue": "ArgumentError: Package PyPlot not found in current path.\n- Run `import Pkg; Pkg.add(\"PyPlot\")` to install the PyPlot package.",
     "output_type": "error",
     "traceback": [
      "ArgumentError: Package PyPlot not found in current path.\n",
      "- Run `import Pkg; Pkg.add(\"PyPlot\")` to install the PyPlot package.\n",
      "\n",
      "Stacktrace:\n",
      "  [1] macro expansion\n",
      "    @ .\\loading.jl:1772 [inlined]\n",
      "  [2] macro expansion\n",
      "    @ .\\lock.jl:267 [inlined]\n",
      "  [3] __require(into::Module, mod::Symbol)\n",
      "    @ Base .\\loading.jl:1753\n",
      "  [4] #invoke_in_world#3\n",
      "    @ .\\essentials.jl:926 [inlined]\n",
      "  [5] invoke_in_world\n",
      "    @ .\\essentials.jl:923 [inlined]\n",
      "  [6] require(into::Module, mod::Symbol)\n",
      "    @ Base .\\loading.jl:1746\n",
      "  [7] eval\n",
      "    @ .\\boot.jl:385 [inlined]\n",
      "  [8] include_string(mapexpr::typeof(REPL.softscope), mod::Module, code::String, filename::String)\n",
      "    @ Base .\\loading.jl:2076\n",
      "  [9] #invokelatest#2\n",
      "    @ .\\essentials.jl:892 [inlined]\n",
      " [10] invokelatest\n",
      "    @ .\\essentials.jl:889 [inlined]\n",
      " [11] (::VSCodeServer.var\"#219#220\"{VSCodeServer.NotebookRunCellArguments, String})()\n",
      "    @ VSCodeServer c:\\Users\\pozdro\\.vscode\\extensions\\julialang.language-julia-1.79.2\\scripts\\packages\\VSCodeServer\\src\\serve_notebook.jl:19\n",
      " [12] withpath(f::VSCodeServer.var\"#219#220\"{VSCodeServer.NotebookRunCellArguments, String}, path::String)\n",
      "    @ VSCodeServer c:\\Users\\pozdro\\.vscode\\extensions\\julialang.language-julia-1.79.2\\scripts\\packages\\VSCodeServer\\src\\repl.jl:276\n",
      " [13] notebook_runcell_request(conn::VSCodeServer.JSONRPC.JSONRPCEndpoint{Base.PipeEndpoint, Base.PipeEndpoint}, params::VSCodeServer.NotebookRunCellArguments)\n",
      "    @ VSCodeServer c:\\Users\\pozdro\\.vscode\\extensions\\julialang.language-julia-1.79.2\\scripts\\packages\\VSCodeServer\\src\\serve_notebook.jl:13\n",
      " [14] dispatch_msg(x::VSCodeServer.JSONRPC.JSONRPCEndpoint{Base.PipeEndpoint, Base.PipeEndpoint}, dispatcher::VSCodeServer.JSONRPC.MsgDispatcher, msg::Dict{String, Any})\n",
      "    @ VSCodeServer.JSONRPC c:\\Users\\pozdro\\.vscode\\extensions\\julialang.language-julia-1.79.2\\scripts\\packages\\JSONRPC\\src\\typed.jl:67\n",
      " [15] serve_notebook(pipename::String, outputchannel_logger::Base.CoreLogging.SimpleLogger; crashreporting_pipename::String)\n",
      "    @ VSCodeServer c:\\Users\\pozdro\\.vscode\\extensions\\julialang.language-julia-1.79.2\\scripts\\packages\\VSCodeServer\\src\\serve_notebook.jl:139\n",
      " [16] top-level scope\n",
      "    @ c:\\Users\\pozdro\\.vscode\\extensions\\julialang.language-julia-1.79.2\\scripts\\notebook\\notebook.jl:35"
     ]
    }
   ],
   "source": [
    "using PyPlot\n",
    "semilogy(losses, \".\")\n",
    "xlabel(\"epoch\")\n",
    "ylabel(\"loss\")\n",
    "grid()"
   ]
  },
  {
   "cell_type": "code",
   "execution_count": 27,
   "id": "92464b29",
   "metadata": {},
   "outputs": [
    {
     "data": {
      "text/plain": [
       "backward (generic function with 11 methods)"
      ]
     },
     "metadata": {},
     "output_type": "display_data"
    }
   ],
   "source": [
    "softmax(x::GraphNode) = BroadcastedOperator(softmax, x)\n",
    "forward(::BroadcastedOperator{typeof(softmax)}, x) = return exp.(x) ./ sum(exp.(x))\n",
    "backward(node::BroadcastedOperator{typeof(softmax)}, x, g) = let\n",
    "    y = node.output\n",
    "    J = diagm(y) .- y * y'\n",
    "    tuple(J' * g)\n",
    "end"
   ]
  },
  {
   "cell_type": "code",
   "execution_count": 28,
   "id": "exact-appendix",
   "metadata": {},
   "outputs": [
    {
     "data": {
      "text/plain": [
       "rosenbrock (generic function with 1 method)"
      ]
     },
     "metadata": {},
     "output_type": "display_data"
    }
   ],
   "source": [
    "rosenbrock(x, y) = (Constant(1.0) .- x .* x) .+ Constant(100.0) .* (y .- x .* x) .* (y .- x .* x)"
   ]
  },
  {
   "cell_type": "code",
   "execution_count": 29,
   "id": "burning-sweden",
   "metadata": {},
   "outputs": [
    {
     "data": {
      "text/plain": [
       "13-element Vector{Any}:\n",
       " const 1.0\n",
       " var x\n",
       " ┣━ ^ 1-element Vector{Float64}\n",
       " ┗━ ∇ Nothing\n",
       " op.?(typeof(*))\n",
       " op.?(typeof(-))\n",
       " const 100.0\n",
       " var y\n",
       " ┣━ ^ 1-element Vector{Float64}\n",
       " ┗━ ∇ Nothing\n",
       " op.?(typeof(*))\n",
       " op.?(typeof(-))\n",
       " op.?(typeof(*))\n",
       " op.?(typeof(*))\n",
       " op.?(typeof(-))\n",
       " op.?(typeof(*))\n",
       " op.?(typeof(+))"
      ]
     },
     "metadata": {},
     "output_type": "display_data"
    }
   ],
   "source": [
    "x = Variable([0.], name=\"x\")\n",
    "y = Variable([0.], name=\"y\")\n",
    "graph = topological_sort(rosenbrock(x, y))"
   ]
  },
  {
   "cell_type": "code",
   "execution_count": 30,
   "id": "connected-pollution",
   "metadata": {},
   "outputs": [
    {
     "ename": "MethodError",
     "evalue": "MethodError: no method matching vec(::Float64)\n\nClosest candidates are:\n  vec(!Matched::Adjoint{<:Real, <:AbstractVector})\n   @ LinearAlgebra C:\\Users\\pozdro\\AppData\\Local\\Programs\\Julia-1.10.1\\share\\julia\\stdlib\\v1.10\\LinearAlgebra\\src\\adjtrans.jl:369\n  vec(!Matched::Transpose{<:Number, <:AbstractVector})\n   @ LinearAlgebra C:\\Users\\pozdro\\AppData\\Local\\Programs\\Julia-1.10.1\\share\\julia\\stdlib\\v1.10\\LinearAlgebra\\src\\adjtrans.jl:368\n  vec(!Matched::AbstractVector)\n   @ Base abstractarraymath.jl:42\n  ...\n",
     "output_type": "error",
     "traceback": [
      "MethodError: no method matching vec(::Float64)\n",
      "\n",
      "Closest candidates are:\n",
      "  vec(!Matched::Adjoint{<:Real, <:AbstractVector})\n",
      "   @ LinearAlgebra C:\\Users\\pozdro\\AppData\\Local\\Programs\\Julia-1.10.1\\share\\julia\\stdlib\\v1.10\\LinearAlgebra\\src\\adjtrans.jl:369\n",
      "  vec(!Matched::Transpose{<:Number, <:AbstractVector})\n",
      "   @ LinearAlgebra C:\\Users\\pozdro\\AppData\\Local\\Programs\\Julia-1.10.1\\share\\julia\\stdlib\\v1.10\\LinearAlgebra\\src\\adjtrans.jl:368\n",
      "  vec(!Matched::AbstractVector)\n",
      "   @ Base abstractarraymath.jl:42\n",
      "  ...\n",
      "\n",
      "\n",
      "Stacktrace:\n",
      " [1] backward(node::BroadcastedOperator{typeof(*)}, x::Float64, y::Vector{Float64}, g::Matrix{Float64})\n",
      "   @ Main g:\\PROGRAMOWANIE\\RNN\\W04 (1).ipynb:14\n",
      " [2] backward!(node::BroadcastedOperator{typeof(*)})\n",
      "   @ Main g:\\PROGRAMOWANIE\\RNN\\W04 (1).ipynb:19\n",
      " [3] backward!(order::Vector{Any}; seed::Float64)\n",
      "   @ Main g:\\PROGRAMOWANIE\\RNN\\W04 (1).ipynb:10\n",
      " [4] backward!(order::Vector{Any})\n",
      "   @ Main g:\\PROGRAMOWANIE\\RNN\\W04 (1).ipynb:6\n",
      " [5] top-level scope\n",
      "   @ g:\\PROGRAMOWANIE\\RNN\\W04 (1).ipynb:8"
     ]
    }
   ],
   "source": [
    "v  = -1:.1:+1\n",
    "n  = length(v)\n",
    "z  = zeros(n, n)\n",
    "dz = zeros(n, n, 2)\n",
    "for i=1:n, j=1:n\n",
    "    x.output .= v[i]\n",
    "    y.output .= v[j]\n",
    "    z[i,j] = first(forward!(graph)); backward!(graph)\n",
    "    dz[i,j,1] = first(x.gradient)\n",
    "    dz[i,j,2] = first(y.gradient)\n",
    "end\n"
   ]
  },
  {
   "cell_type": "code",
   "execution_count": 31,
   "id": "neither-snapshot",
   "metadata": {},
   "outputs": [
    {
     "ename": "ArgumentError",
     "evalue": "ArgumentError: Package PyPlot not found in current path.\n- Run `import Pkg; Pkg.add(\"PyPlot\")` to install the PyPlot package.",
     "output_type": "error",
     "traceback": [
      "ArgumentError: Package PyPlot not found in current path.\n",
      "- Run `import Pkg; Pkg.add(\"PyPlot\")` to install the PyPlot package.\n",
      "\n",
      "Stacktrace:\n",
      "  [1] macro expansion\n",
      "    @ .\\loading.jl:1772 [inlined]\n",
      "  [2] macro expansion\n",
      "    @ .\\lock.jl:267 [inlined]\n",
      "  [3] __require(into::Module, mod::Symbol)\n",
      "    @ Base .\\loading.jl:1753\n",
      "  [4] #invoke_in_world#3\n",
      "    @ .\\essentials.jl:926 [inlined]\n",
      "  [5] invoke_in_world\n",
      "    @ .\\essentials.jl:923 [inlined]\n",
      "  [6] require(into::Module, mod::Symbol)\n",
      "    @ Base .\\loading.jl:1746\n",
      "  [7] eval\n",
      "    @ .\\boot.jl:385 [inlined]\n",
      "  [8] include_string(mapexpr::typeof(REPL.softscope), mod::Module, code::String, filename::String)\n",
      "    @ Base .\\loading.jl:2076\n",
      "  [9] #invokelatest#2\n",
      "    @ .\\essentials.jl:892 [inlined]\n",
      " [10] invokelatest\n",
      "    @ .\\essentials.jl:889 [inlined]\n",
      " [11] (::VSCodeServer.var\"#219#220\"{VSCodeServer.NotebookRunCellArguments, String})()\n",
      "    @ VSCodeServer c:\\Users\\pozdro\\.vscode\\extensions\\julialang.language-julia-1.79.2\\scripts\\packages\\VSCodeServer\\src\\serve_notebook.jl:19\n",
      " [12] withpath(f::VSCodeServer.var\"#219#220\"{VSCodeServer.NotebookRunCellArguments, String}, path::String)\n",
      "    @ VSCodeServer c:\\Users\\pozdro\\.vscode\\extensions\\julialang.language-julia-1.79.2\\scripts\\packages\\VSCodeServer\\src\\repl.jl:276\n",
      " [13] notebook_runcell_request(conn::VSCodeServer.JSONRPC.JSONRPCEndpoint{Base.PipeEndpoint, Base.PipeEndpoint}, params::VSCodeServer.NotebookRunCellArguments)\n",
      "    @ VSCodeServer c:\\Users\\pozdro\\.vscode\\extensions\\julialang.language-julia-1.79.2\\scripts\\packages\\VSCodeServer\\src\\serve_notebook.jl:13\n",
      " [14] dispatch_msg(x::VSCodeServer.JSONRPC.JSONRPCEndpoint{Base.PipeEndpoint, Base.PipeEndpoint}, dispatcher::VSCodeServer.JSONRPC.MsgDispatcher, msg::Dict{String, Any})\n",
      "    @ VSCodeServer.JSONRPC c:\\Users\\pozdro\\.vscode\\extensions\\julialang.language-julia-1.79.2\\scripts\\packages\\JSONRPC\\src\\typed.jl:67\n",
      " [15] serve_notebook(pipename::String, outputchannel_logger::Base.CoreLogging.SimpleLogger; crashreporting_pipename::String)\n",
      "    @ VSCodeServer c:\\Users\\pozdro\\.vscode\\extensions\\julialang.language-julia-1.79.2\\scripts\\packages\\VSCodeServer\\src\\serve_notebook.jl:139\n",
      " [16] top-level scope\n",
      "    @ c:\\Users\\pozdro\\.vscode\\extensions\\julialang.language-julia-1.79.2\\scripts\\notebook\\notebook.jl:35"
     ]
    }
   ],
   "source": [
    "using PyPlot\n",
    "xv = repeat(v, 1, n)\n",
    "yv = repeat(v',n, 1)\n",
    "contourf(xv, yv, z)\n",
    "quiver(xv, yv, dz[:,:,1], dz[:,:,2])"
   ]
  }
 ],
 "metadata": {
  "kernelspec": {
   "display_name": "Julia 1.10.1",
   "language": "julia",
   "name": "julia-1.10"
  },
  "language_info": {
   "file_extension": ".jl",
   "mimetype": "application/julia",
   "name": "julia",
   "version": "1.10.1"
  }
 },
 "nbformat": 4,
 "nbformat_minor": 5
}
