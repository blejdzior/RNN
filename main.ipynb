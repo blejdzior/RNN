{
 "cells": [
  {
   "cell_type": "code",
   "execution_count": 1,
   "metadata": {},
   "outputs": [
    {
     "name": "stdout",
     "output_type": "stream",
     "text": [
      "loss_and_accuracy(net, test_data) = (loss = 116422.6369385434, acc = 12.41, split = :test)\n"
     ]
    }
   ],
   "source": [
    "include(\"NeuralNetwork.jl\")\n",
    "using .NeuralNetwork\n",
    "using MLDatasets, ProgressMeter\n",
    "import Base.show\n",
    "show(x::AbstractVecOrMat{T}) where {T} = show(IOContext(stdout, :limit => true), \"text/plain\", x), println(stdout)\n",
    "\n",
    "# Data\n",
    "train_data = MLDatasets.MNIST(split=:train)\n",
    "test_data  = MLDatasets.MNIST(split=:test)\n",
    "\n",
    "\n",
    "# Setting up the RNN\n",
    "net = RNN(RNNLayer((14*14) => 64), Dense(64 => 10))\n",
    "\n",
    "# parameters\n",
    "train_log = []\n",
    "settings = (;\n",
    "    eta = 15e-3,\n",
    "    epochs = 5,\n",
    "    batchsize = 100,\n",
    ")\n",
    "\n",
    "# Descent optimiser\n",
    "optimiser = Descent(settings.eta)\n",
    "\n",
    "\n",
    "@show loss_and_accuracy(net, test_data);  # accuracy about 10%, before training\n",
    "\n",
    "\n"
   ]
  },
  {
   "cell_type": "code",
   "execution_count": 4,
   "metadata": {},
   "outputs": [
    {
     "name": "stdout",
     "output_type": "stream",
     "text": [
      " 18.146578 seconds (33.98 M allocations: 12.232 GiB, 5.11% gc time)\n"
     ]
    },
    {
     "name": "stderr",
     "output_type": "stream",
     "text": [
      "┌ Info: 1\n",
      "│   acc = 84.76\n",
      "│   test_acc = 84.6\n",
      "└ @ Main g:\\PROGRAMOWANIE\\RNN\\main.ipynb:11\n"
     ]
    },
    {
     "name": "stdout",
     "output_type": "stream",
     "text": [
      " 16.051541 seconds (33.98 M allocations: 12.232 GiB, 5.18% gc time)\n"
     ]
    },
    {
     "name": "stderr",
     "output_type": "stream",
     "text": [
      "┌ Info: 2\n",
      "│   acc = 83.7\n",
      "│   test_acc = 83.27\n",
      "└ @ Main g:\\PROGRAMOWANIE\\RNN\\main.ipynb:11\n"
     ]
    },
    {
     "name": "stdout",
     "output_type": "stream",
     "text": [
      " 16.791265 seconds (33.98 M allocations: 12.232 GiB, 5.72% gc time)\n"
     ]
    },
    {
     "name": "stderr",
     "output_type": "stream",
     "text": [
      "┌ Info: 3\n",
      "│   acc = 85.37\n",
      "│   test_acc = 84.92\n",
      "└ @ Main g:\\PROGRAMOWANIE\\RNN\\main.ipynb:11\n"
     ]
    },
    {
     "name": "stdout",
     "output_type": "stream",
     "text": [
      " 15.908995 seconds (33.98 M allocations: 12.232 GiB, 4.54% gc time)\n"
     ]
    },
    {
     "name": "stderr",
     "output_type": "stream",
     "text": [
      "┌ Info: 4\n",
      "│   acc = 85.55\n",
      "│   test_acc = 85.35\n",
      "└ @ Main g:\\PROGRAMOWANIE\\RNN\\main.ipynb:11\n"
     ]
    },
    {
     "name": "stdout",
     "output_type": "stream",
     "text": [
      " 17.876112 seconds (33.98 M allocations: 12.232 GiB, 5.09% gc time)\n"
     ]
    },
    {
     "name": "stderr",
     "output_type": "stream",
     "text": [
      "┌ Info: 5\n",
      "│   acc = 85.34\n",
      "│   test_acc = 85.2\n",
      "└ @ Main g:\\PROGRAMOWANIE\\RNN\\main.ipynb:11\n"
     ]
    },
    {
     "name": "stdout",
     "output_type": "stream",
     "text": [
      "loss_and_accuracy(net, train_data) = (loss = 866232.2204167487, acc = 85.34, split = :train)\n"
     ]
    }
   ],
   "source": [
    "for epoch in 1:settings.epochs\n",
    "    \n",
    "    @time for (x,y) in loader(train_data, batchsize=settings.batchsize)\n",
    "        reset_net!(net)\n",
    "        train!(net, optimiser, x, y, batchsize=settings.batchsize)\n",
    "\n",
    "    end\n",
    "\n",
    "    loss, acc, _ = loss_and_accuracy(net, train_data)\n",
    "    test_loss, test_acc, _ = loss_and_accuracy(net, test_data)\n",
    "    @info epoch acc test_acc\n",
    "    nt = (; epoch, loss, acc, test_loss, test_acc) \n",
    "    push!(train_log, nt)\n",
    "end\n",
    "\n",
    "\n",
    "reset_net!(net)\n",
    "x1, y1 = first(loader(train_data)); # (28×28×1×1 Array{Float32, 3}, 10×1 OneHotMatrix(::Vector{UInt32}))\n",
    "y1hat = net(x1[  1:196,:])\n",
    "y1hat = net(x1[197:392,:])\n",
    "\n",
    "y1hat = net(x1[393:588,:])\n",
    "\n",
    "y1hat = net(x1[589:end,:])\n",
    "\n",
    "@show loss_and_accuracy(net, train_data);"
   ]
  }
 ],
 "metadata": {
  "kernelspec": {
   "display_name": "Julia 1.10.1",
   "language": "julia",
   "name": "julia-1.10"
  },
  "language_info": {
   "file_extension": ".jl",
   "mimetype": "application/julia",
   "name": "julia",
   "version": "1.10.1"
  }
 },
 "nbformat": 4,
 "nbformat_minor": 2
}
